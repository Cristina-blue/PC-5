{
 "cells": [
  {
   "cell_type": "code",
   "execution_count": 1,
   "metadata": {},
   "outputs": [
    {
     "name": "stdout",
     "output_type": "stream",
     "text": [
      "Alternativas para Alicia y su familia:\n",
      "     room_id  host_id        room_type       neighborhood  reviews  \\\n",
      "120   176153   842219  Entire home/apt       Misericórdia      438   \n",
      "16     44043   192830  Entire home/apt  Santa Maria Maior      316   \n",
      "140   202150   989393  Entire home/apt  Santa Maria Maior      274   \n",
      "\n",
      "     overall_satisfaction  bedrooms  price  \n",
      "120                   5.0       2.0  102.0  \n",
      "16                    5.0       3.0   80.0  \n",
      "140                   5.0       2.0   62.0  \n"
     ]
    }
   ],
   "source": [
    "import pandas as pd\n",
    "\n",
    "file_path = '/workspaces/PC-5/airbnb.csv'\n",
    "df = pd.read_csv(file_path)\n",
    "\n",
    "\n",
    "filtered_df = df[(df['reviews'] > 10) & (df['overall_satisfaction'] > 4) & (df['bedrooms'] >= 2)]\n",
    "\n",
    "sorted_df = filtered_df.sort_values(by=['overall_satisfaction', 'reviews'], ascending=False)\n",
    "\n",
    "top_alternatives = sorted_df.head(3)\n",
    "\n",
    "print(\"Alternativas para Alicia y su familia:\")\n",
    "print(top_alternatives[['room_id', 'host_id', 'room_type', 'neighborhood', 'reviews', 'overall_satisfaction', 'bedrooms', 'price']])\n"
   ]
  }
 ],
 "metadata": {
  "kernelspec": {
   "display_name": "Python 3",
   "language": "python",
   "name": "python3"
  },
  "language_info": {
   "codemirror_mode": {
    "name": "ipython",
    "version": 3
   },
   "file_extension": ".py",
   "mimetype": "text/x-python",
   "name": "python",
   "nbconvert_exporter": "python",
   "pygments_lexer": "ipython3",
   "version": "3.12.1"
  }
 },
 "nbformat": 4,
 "nbformat_minor": 2
}
