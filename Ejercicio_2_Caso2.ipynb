{
 "cells": [
  {
   "cell_type": "code",
   "execution_count": 1,
   "metadata": {},
   "outputs": [
    {
     "name": "stdout",
     "output_type": "stream",
     "text": [
      "ID de propiedades y número de opiniones:\n",
      "        room_id  reviews\n",
      "0          6499        8\n",
      "1         17031        0\n",
      "2         25659       63\n",
      "3         29248      225\n",
      "4         29396      132\n",
      "...         ...      ...\n",
      "13227  19388006        0\n",
      "13228  19393935        0\n",
      "13229  19396300        0\n",
      "13230  19397373        0\n",
      "13231  19400722        0\n",
      "\n",
      "[13232 rows x 2 columns]\n",
      "ID de Roberto en el DataFrame: True\n",
      "ID de Clara en el DataFrame: True\n",
      "El archivo 'roberto.xlsx' ha sido creado con éxito.\n"
     ]
    }
   ],
   "source": [
    "import pandas as pd\n",
    "\n",
    "file_path = '/workspaces/PC-5/airbnb.csv'\n",
    "df = pd.read_csv(file_path)\n",
    "\n",
    "print(\"ID de propiedades y número de opiniones:\")\n",
    "print(df[['room_id', 'reviews']].drop_duplicates())\n",
    "\n",
    "roberto_room_id = 97503 \n",
    "clara_room_id = 90387    \n",
    "\n",
    "print(\"ID de Roberto en el DataFrame:\", roberto_room_id in df['room_id'].values)\n",
    "print(\"ID de Clara en el DataFrame:\", clara_room_id in df['room_id'].values)\n",
    "\n",
    "filtered_df = df[(df['room_id'] == roberto_room_id) | (df['room_id'] == clara_room_id)]\n",
    "\n",
    "if filtered_df.empty:\n",
    "    print(\"El DataFrame filtrado está vacío. No se encontraron propiedades para los room_ids especificados.\")\n",
    "else:\n",
    "  \n",
    "    result_df = filtered_df[['room_id', 'host_id', 'reviews', 'overall_satisfaction']]\n",
    "    \n",
    "    result_df.to_excel('roberto.xlsx', index=False)\n",
    "    print(\"El archivo 'roberto.xlsx' ha sido creado con éxito.\")\n"
   ]
  }
 ],
 "metadata": {
  "kernelspec": {
   "display_name": "Python 3",
   "language": "python",
   "name": "python3"
  },
  "language_info": {
   "codemirror_mode": {
    "name": "ipython",
    "version": 3
   },
   "file_extension": ".py",
   "mimetype": "text/x-python",
   "name": "python",
   "nbconvert_exporter": "python",
   "pygments_lexer": "ipython3",
   "version": "3.12.1"
  }
 },
 "nbformat": 4,
 "nbformat_minor": 2
}
