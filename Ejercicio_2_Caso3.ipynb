{
 "cells": [
  {
   "cell_type": "code",
   "execution_count": 1,
   "metadata": {},
   "outputs": [
    {
     "name": "stdout",
     "output_type": "stream",
     "text": [
      "Las 10 propiedades más baratas para Diana:\n",
      "        room_id    room_type  price  overall_satisfaction\n",
      "9065   14933182  Shared room   11.0                   5.0\n",
      "6056   10397682  Shared room   13.0                   5.0\n",
      "7060   12299998  Shared room   13.0                   5.0\n",
      "7066   12305540  Shared room   13.0                   5.0\n",
      "8918   14719962  Shared room   13.0                   5.0\n",
      "7034   12268067  Shared room   16.0                   5.0\n",
      "9964   16150682  Shared room   16.0                   5.0\n",
      "10723  17096560  Shared room   16.0                   5.0\n",
      "6459   11427995  Shared room   18.0                   5.0\n",
      "11058  17497074  Shared room   18.0                   5.0\n"
     ]
    }
   ],
   "source": [
    "import pandas as pd\n",
    "\n",
    "file_path = '/workspaces/PC-5/airbnb.csv'\n",
    "df = pd.read_csv(file_path)\n",
    "\n",
    "presupuesto = 50\n",
    "diana_accommodates = 1 \n",
    "\n",
    "filtered_df = df[(df['price'] <= presupuesto) & (df['room_type'] == 'Shared room')]\n",
    "\n",
    "if filtered_df.empty:\n",
    "    print(\"No se encontraron propiedades que cumplan con los criterios de Diana.\")\n",
    "else:\n",
    "\n",
    "    sorted_df = filtered_df.sort_values(by=['overall_satisfaction', 'price'], ascending=[False, True])\n",
    "    \n",
    "    top_10_properties = sorted_df.head(10)\n",
    "\n",
    "    print(\"Las 10 propiedades más baratas para Diana:\")\n",
    "    print(top_10_properties[['room_id', 'room_type', 'price', 'overall_satisfaction']])\n"
   ]
  }
 ],
 "metadata": {
  "kernelspec": {
   "display_name": "Python 3",
   "language": "python",
   "name": "python3"
  },
  "language_info": {
   "codemirror_mode": {
    "name": "ipython",
    "version": 3
   },
   "file_extension": ".py",
   "mimetype": "text/x-python",
   "name": "python",
   "nbconvert_exporter": "python",
   "pygments_lexer": "ipython3",
   "version": "3.12.1"
  }
 },
 "nbformat": 4,
 "nbformat_minor": 2
}
